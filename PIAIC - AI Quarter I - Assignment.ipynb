{
 "cells": [
  {
   "cell_type": "code",
   "execution_count": 2,
   "metadata": {},
   "outputs": [
    {
     "name": "stdout",
     "output_type": "stream",
     "text": [
      "PROGRAM TO CALCULATE THE AREA OF A CIRCLE\n",
      "Enter the value as radius of the circle; 5.5\n",
      "Area of the circle is  95.01525\n"
     ]
    }
   ],
   "source": [
    "#Program 001 - Calculate Area Of a Circle\n",
    "print(\"PROGRAM TO CALCULATE THE AREA OF A CIRCLE\")\n",
    "PI = 3.141\n",
    "rad = float(input(\"Enter the value as radius of the circle; \"))\n",
    "area = PI*(rad*rad)\n",
    "print(\"Area of the circle is \",area)"
   ]
  },
  {
   "cell_type": "code",
   "execution_count": 5,
   "metadata": {},
   "outputs": [
    {
     "name": "stdout",
     "output_type": "stream",
     "text": [
      "PROGRAM TO CHECK THE NATURE OF A NUMBER\n",
      "Enter any number:-26\n",
      "Negative Number\n"
     ]
    }
   ],
   "source": [
    "#Program 002 - Checking the nature of any number (either positive, negative or zero)\n",
    "print(\"PROGRAM TO CHECK THE NATURE OF A NUMBER\")\n",
    "num = float(input(\"Enter any number:\"))\n",
    "if num>0:\n",
    "    print(\"Positive Number\")\n",
    "elif num==0:\n",
    "    print(\"Zero Number\")\n",
    "else:\n",
    "    print(\"Negative Number\")"
   ]
  },
  {
   "cell_type": "code",
   "execution_count": 6,
   "metadata": {},
   "outputs": [
    {
     "name": "stdout",
     "output_type": "stream",
     "text": [
      "PROGRAM TO CHECK THE DIVISIBILITY OF TWO NUMBERS\n",
      "Enter any number as Numerator: 3\n",
      "Enter any number as Denomenator: 9\n",
      "Number 3 is indivisible by 9\n"
     ]
    }
   ],
   "source": [
    "#Program 003 - Checking divisibility of two numbers\n",
    "print(\"PROGRAM TO CHECK THE DIVISIBILITY OF TWO NUMBERS\")\n",
    "numr = int(input(\"Enter any number as Numerator: \"))\n",
    "denr = int(input(\"Enter any number as Denomenator: \"))\n",
    "if numr%denr == 0:\n",
    "    print(\"Number\",numr, \"is divisible by\",denr)\n",
    "else:\n",
    "    print(\"Number\",numr, \"is indivisible by\",denr)"
   ]
  },
  {
   "cell_type": "code",
   "execution_count": 10,
   "metadata": {},
   "outputs": [
    {
     "name": "stdout",
     "output_type": "stream",
     "text": [
      "PROGRAM TO CHECK THE DAYS BETWEEN TWO DAYS\n",
      "Enter a date in (dd/mm/yy) format as the first date: 12/11/2019\n",
      "Enter a date in (dd/mm/yy) format as the last date: 15/12/2020\n",
      "There are  399 days between  2019-11-12  and  2020-12-15\n"
     ]
    }
   ],
   "source": [
    "#Program 004 - Creating Days Calculator\n",
    "print(\"PROGRAM TO CHECK THE DAYS BETWEEN TWO DAYS\")\n",
    "from datetime import datetime\n",
    "startDate = input(\"Enter a date in (dd/mm/yy) format as the first date: \")\n",
    "endDate = input(\"Enter a date in (dd/mm/yy) format as the last date: \")\n",
    "finalstartDate = datetime.strptime(startDate,\"%d/%m/%Y\").date()\n",
    "finalendDate = datetime.strptime(endDate,\"%d/%m/%Y\").date()\n",
    "remainingDays = finalendDate - finalstartDate\n",
    "print (\"There are \", remainingDays.days, \"days between \", finalstartDate,\" and \",finalendDate)"
   ]
  },
  {
   "cell_type": "code",
   "execution_count": 11,
   "metadata": {},
   "outputs": [
    {
     "name": "stdout",
     "output_type": "stream",
     "text": [
      "PROGRAM TO CALCULATE THE VOLUME OF THE SPHERE\n",
      "Enter value of radius: 2.5\n",
      "Volume of the Sphere with Radius is:  65.44979166666666\n"
     ]
    }
   ],
   "source": [
    "#Program 005 - Calculating the Volume Of Sphere\n",
    "print(\"PROGRAM TO CALCULATE THE VOLUME OF THE SPHERE\")\n",
    "PI = 3.14159\n",
    "radius = float(input(\"Enter value of radius: \"))\n",
    "volume = 4.0/3.0*PI*radius**3\n",
    "print(\"Volume of the Sphere with Radius is: \",volume)"
   ]
  },
  {
   "cell_type": "code",
   "execution_count": 15,
   "metadata": {},
   "outputs": [
    {
     "name": "stdout",
     "output_type": "stream",
     "text": [
      "PROGRAM TO COPY STRING VALUE FOR A SELECTED NUMBER OF TIMES\n",
      "Enter String Value: Ibrahim\n",
      "How many copies of string do you need ? 5\n",
      "IbrahimIbrahimIbrahimIbrahimIbrahim\n"
     ]
    }
   ],
   "source": [
    "#Program 006 - Copying a string value for 'n' times\n",
    "print(\"PROGRAM TO COPY STRING VALUE FOR A SELECTED NUMBER OF TIMES\")\n",
    "a = str(input(\"Enter String Value: \"))\n",
    "result = \"\"\n",
    "b = int(input(\"How many copies of string do you need ? \"))\n",
    "print(b*a)"
   ]
  },
  {
   "cell_type": "code",
   "execution_count": 16,
   "metadata": {},
   "outputs": [
    {
     "name": "stdout",
     "output_type": "stream",
     "text": [
      "PROGRAM TO HELP IDENTIFY YOUR NUMBER AS EVEN OR ODD\n",
      "Enter Number: 7\n",
      "7 is Odd\n"
     ]
    }
   ],
   "source": [
    "#Program 007 - Creating Even/Odd Identifier for numbers\n",
    "print(\"PROGRAM TO HELP IDENTIFY YOUR NUMBER AS EVEN OR ODD\")\n",
    "num = int(input(\"Enter Number: \"))\n",
    "mod = num % 2\n",
    "if mod > 0:\n",
    "    print(num,\"is Odd\")\n",
    "else:\n",
    "    print(num,\"is Even\")"
   ]
  },
  {
   "cell_type": "code",
   "execution_count": 17,
   "metadata": {},
   "outputs": [
    {
     "name": "stdout",
     "output_type": "stream",
     "text": [
      "PROGRAM TO IDENTIFY GIVEN ALPHABET AS VOWEL OR CONSONANT\n",
      "Enter A Characterg\n",
      "g  is a Consonant\n"
     ]
    }
   ],
   "source": [
    "#Program 008 - Creating a Vowel Tester\n",
    "print(\"PROGRAM TO IDENTIFY GIVEN ALPHABET AS VOWEL OR CONSONANT\")\n",
    "vowels = ['A','E','I','O','U','a','e','i','o','u']\n",
    "userInput = input(\"Enter A Character\")\n",
    "if userInput in vowels:\n",
    "    print(userInput, \" is Vowel\")\n",
    "else:\n",
    "    print(userInput,\" is a Consonant\")"
   ]
  },
  {
   "cell_type": "code",
   "execution_count": 18,
   "metadata": {},
   "outputs": [
    {
     "name": "stdout",
     "output_type": "stream",
     "text": [
      "PROGRAM TO CALCULATE THE AREA OF TRIANGLE\n",
      "Enter magnitude of Triangle base: 3\n",
      "Enter Magnitude of Triangle Height: 4\n",
      "Area of a Triangle with Height  4.0  and Base  3.0  is:  6.0\n"
     ]
    }
   ],
   "source": [
    "#Program 009 - Calculating the Area of Triangle\n",
    "print(\"PROGRAM TO CALCULATE THE AREA OF TRIANGLE\")\n",
    "magBase = float(input(\"Enter magnitude of Triangle base: \"))\n",
    "magHeight = float(input(\"Enter Magnitude of Triangle Height: \"))\n",
    "area = magBase*magHeight/2\n",
    "print(\"Area of a Triangle with Height \",magHeight, \" and Base \",magBase,\" is: \",area)"
   ]
  },
  {
   "cell_type": "code",
   "execution_count": 19,
   "metadata": {},
   "outputs": [
    {
     "name": "stdout",
     "output_type": "stream",
     "text": [
      "PROGRAM TO CALCULATE INTEREST ON A PROVIDED AMOUNT\n",
      "Please enter principal amount: 25000\n",
      "Please Enter Rate of interest in %: 2.5\n",
      "Enter number of years for investment: 6\n",
      "45956640.625\n"
     ]
    }
   ],
   "source": [
    "#Program 010 - Calculating Interest on an amount\n",
    "print(\"PROGRAM TO CALCULATE INTEREST ON A PROVIDED AMOUNT\")\n",
    "p = float(input(\"Please enter principal amount: \"))\n",
    "r = float(input(\"Please Enter Rate of interest in %: \"))\n",
    "t = float(input(\"Enter number of years for investment: \"))\n",
    "#a = p* (1 + r/100)**2\n",
    "a = p* (pow((1 + r*100 / 100), t))\n",
    "print(a)"
   ]
  },
  {
   "cell_type": "code",
   "execution_count": 20,
   "metadata": {},
   "outputs": [
    {
     "name": "stdout",
     "output_type": "stream",
     "text": [
      "PROGRAM TO CALCULATE EUCLIDEAN DISTANCE\n",
      "Enter Co-Ordinate For x1 :-2\n",
      "Enter Co-Ordinate For x2 :-3\n",
      "Enter Co-Ordinate For y1 :2\n",
      "Enter Co-Ordinate For y2 :3\n",
      "7.211102550927978\n"
     ]
    }
   ],
   "source": [
    "#Program 011 - Calculating Euclidean Distance\n",
    "print(\"PROGRAM TO CALCULATE EUCLIDEAN DISTANCE\")\n",
    "import math\n",
    "x1 = int(input(\"Enter Co-Ordinate For x1 :\"))\n",
    "x2 = int(input(\"Enter Co-Ordinate For x2 :\"))\n",
    "y1 = int(input(\"Enter Co-Ordinate For y1 :\"))\n",
    "y2 = int(input(\"Enter Co-Ordinate For y2 :\"))\n",
    "distance = math.sqrt( ((x1-y1)**2)+((x2-y2)**2) )\n",
    "print(distance)"
   ]
  },
  {
   "cell_type": "code",
   "execution_count": 27,
   "metadata": {},
   "outputs": [
    {
     "name": "stdout",
     "output_type": "stream",
     "text": [
      "PROGRAM TO CONVERT DISTANCE PROVIDED IN FEET INTO CENTIMETRES\n",
      "Enter Height in feet6.5\n",
      "There are  198.12  cm in  6.5  ft\n"
     ]
    }
   ],
   "source": [
    "#Program 012 - Converting Feet into Centimetres\n",
    "print(\"PROGRAM TO CONVERT DISTANCE PROVIDED IN FEET INTO CENTIMETRES\")\n",
    "userInput = float(input(\"Enter Height in feet\"))\n",
    "totalCm = userInput * 30.48\n",
    "print(\"There are \",totalCm , \" cm in \",userInput,\" ft\")"
   ]
  },
  {
   "cell_type": "code",
   "execution_count": 28,
   "metadata": {},
   "outputs": [
    {
     "name": "stdout",
     "output_type": "stream",
     "text": [
      "PROGRAM TO GET YOUR BMI VALUE\n",
      "Enter Your Height in Cm30\n",
      "Enter Your Weight in kg50\n",
      "555.5555555555555\n"
     ]
    }
   ],
   "source": [
    "#Program 013 - BMI Calculator\n",
    "print(\"PROGRAM TO GET YOUR BMI VALUE\")\n",
    "userHeight = float(input(\"Enter Your Height in Cm\"))\n",
    "userWeight = float(input(\"Enter Your Weight in kg\"))\n",
    "heightInMeters = userHeight * 0.01\n",
    "totalBmi = userWeight / (heightInMeters * heightInMeters)\n",
    "print(totalBmi)"
   ]
  },
  {
   "cell_type": "code",
   "execution_count": 29,
   "metadata": {},
   "outputs": [
    {
     "name": "stdout",
     "output_type": "stream",
     "text": [
      "PROGRAM TO SUM UP POSITIVE NUMBER N TIMES\n",
      "Enter Number Of n4\n",
      "10\n"
     ]
    }
   ],
   "source": [
    "#Program 014 - Summing up number by 'n' times\n",
    "print(\"PROGRAM TO SUM UP POSITIVE NUMBER N TIMES\")\n",
    "sumNumber = 0\n",
    "userNumber =int(input(\"Enter Number Of n\"))\n",
    "if userNumber >=0:\n",
    "    total = int(userNumber * (userNumber + 1)/2)\n",
    "    print(total)\n",
    "else:\n",
    "    print(userNumber,\" is not positive Number\")"
   ]
  },
  {
   "cell_type": "code",
   "execution_count": 30,
   "metadata": {},
   "outputs": [
    {
     "name": "stdout",
     "output_type": "stream",
     "text": [
      "PROGRAM TO SUM P DIGITS OF GIVEN NUMBER\n",
      "Enter a Number255\n",
      "2 + 5 + 5\n",
      "Sum Of  2 + 5 + 5  is  12\n"
     ]
    }
   ],
   "source": [
    "#Program 015 - Summing up Digits of a given number\n",
    "print(\"PROGRAM TO SUM P DIGITS OF GIVEN NUMBER\")\n",
    "number =int(input(\"Enter a Number\"))\n",
    "sumnum = str(number)\n",
    "lst = list(sumnum)\n",
    "totalDigits = ' + '.join(sumnum)\n",
    "print(totalDigits)\n",
    "total = 0\n",
    "while number>0:\n",
    "    digit = number%10\n",
    "    total = total+digit\n",
    "    number = number//10\n",
    "print(\"Sum Of \", totalDigits, \" is \", total)"
   ]
  },
  {
   "cell_type": "code",
   "execution_count": 31,
   "metadata": {},
   "outputs": [
    {
     "name": "stdout",
     "output_type": "stream",
     "text": [
      "PROGRAM TO CONVERT DECIMAL NUMBER INTO BINARY NUMBER\n",
      "Enter a decimal number 156\n",
      "Binary Representation of  156  is  111001 "
     ]
    }
   ],
   "source": [
    "#Program 016 - Creating a Decimal To Binary Converter\n",
    "print(\"PROGRAM TO CONVERT DECIMAL NUMBER INTO BINARY NUMBER\")\n",
    "decimalNumber = int(input(\"Enter a decimal number \"))\n",
    "finalDecimalNumber = decimalNumber\n",
    "# to store binary numbers in list\n",
    "array=[]\n",
    "while(decimalNumber>0):\n",
    "    digit=decimalNumber%2\n",
    "    array.append(digit)\n",
    "    decimalNumber=decimalNumber//2\n",
    "    # Converting integer list to string list\n",
    "    s = [str(i) for i in array]  \n",
    "    # Join list items using join() \n",
    "    res = int(\"\".join(s))     \n",
    "array.reverse()\n",
    "print(\"Binary Representation of \", finalDecimalNumber,\" is \",res,end=\" \")"
   ]
  },
  {
   "cell_type": "code",
   "execution_count": 32,
   "metadata": {},
   "outputs": [
    {
     "name": "stdout",
     "output_type": "stream",
     "text": [
      "PROGRAM TO CONVERT BINARY NUMBER INTO DECIMAL NUMBER\n",
      "Enter a Binary number 110101\n",
      "Decimal Representation of  110101  is  53\n"
     ]
    }
   ],
   "source": [
    "#Program 017 - Creating a Binary To Decimal Converter\n",
    "print(\"PROGRAM TO CONVERT BINARY NUMBER INTO DECIMAL NUMBER\")\n",
    "binaryNumber = input(\"Enter a Binary number \")\n",
    "binaryNumberList = list(binaryNumber)\n",
    "defaultValue = 0\n",
    "actualNumber = str(binaryNumber)\n",
    "for d in range(len(binaryNumberList)):\n",
    "    numbers = binaryNumberList.pop()\n",
    "    if numbers == '1':\n",
    "        defaultValue = defaultValue + pow(2, d)\n",
    "print(\"Decimal Representation of \", actualNumber,\" is \" ,defaultValue)"
   ]
  },
  {
   "cell_type": "code",
   "execution_count": 33,
   "metadata": {},
   "outputs": [
    {
     "name": "stdout",
     "output_type": "stream",
     "text": [
      "PROGRAM TO COUNT VOWELS/CONSONANTS\n",
      "Enter Text Hey there, I am using WhatsApp.\n",
      "Vowels :  9\n",
      "Consonants :  22\n"
     ]
    }
   ],
   "source": [
    "#Program 018 - Creating a Vowel & Consonant Counter \n",
    "print(\"PROGRAM TO COUNT VOWELS/CONSONANTS\")\n",
    "userInput = input(\"Enter Text \")\n",
    "vowels = 0\n",
    "consonants = 0\n",
    "for i in userInput:\n",
    "    if(i == 'a' or i == 'e' or i == 'i' or i == 'o' or i == 'u'\n",
    "       or i == 'A' or i == 'E' or i == 'I' or i == 'O' or i == 'U'):\n",
    "        vowels = vowels + 1\n",
    "    else:\n",
    "        consonants = consonants + 1\n",
    "print(\"Vowels : \",vowels)\n",
    "print(\"Consonants : \",consonants)"
   ]
  },
  {
   "cell_type": "code",
   "execution_count": 34,
   "metadata": {},
   "outputs": [
    {
     "name": "stdout",
     "output_type": "stream",
     "text": [
      "PROGRAM TO USE PALINDROME TESTER\n",
      "Enter Text :Hello\n",
      "Text  Hello  is not Palindrome\n"
     ]
    }
   ],
   "source": [
    "#Program 019 - Creating a Palindrome Tester \n",
    "print(\"PROGRAM TO USE PALINDROME TESTER\")\n",
    "userInput = input(\"Enter Text :\")\n",
    "palindrome = userInput[::-1]\n",
    "if userInput == palindrome:\n",
    "    print(\"Text \" , userInput,\" is Palindrome\")\n",
    "else:\n",
    "    print(\"Text \" , userInput,\" is not Palindrome\")"
   ]
  },
  {
   "cell_type": "code",
   "execution_count": 35,
   "metadata": {},
   "outputs": [
    {
     "name": "stdout",
     "output_type": "stream",
     "text": [
      "PROGRAM TO COUNT THE NUMBER OF ALPHABETS, NUMBERS AND SPECIAL CHARACTERS IN A PROVIDED TEXT\n",
      "Please Enter your Own String : Hey there, I am using WhatsApp!\n",
      "\n",
      "Total Number of Alphabets in this String :   24\n",
      "Total Number of Digits in this String :   0\n",
      "Total Number of Special Characters in this String :   2\n",
      "Total Number of Spaces in this String :   5\n"
     ]
    }
   ],
   "source": [
    "#Program 020 - Creating Counter for Alphabets, Numbers and Special Characters  \n",
    "print(\"PROGRAM TO COUNT THE NUMBER OF ALPHABETS, NUMBERS AND SPECIAL CHARACTERS IN A PROVIDED TEXT\")\n",
    "userInput = input(\"Please Enter your Own String : \")\n",
    "alphabets = digits = special = 0\n",
    "spaces = userInput.count(' ')\n",
    "for i in range(len(userInput)):\n",
    "    if(userInput[i].isalpha()):\n",
    "        alphabets = alphabets + 1\n",
    "    elif(userInput[i].isdigit()):\n",
    "        digits = digits + 1\n",
    "    else:\n",
    "        special = special + 1\n",
    "specialCharacter = special - spaces\n",
    "print(\"\\nTotal Number of Alphabets in this String :  \", alphabets)\n",
    "print(\"Total Number of Digits in this String :  \", digits)\n",
    "print(\"Total Number of Special Characters in this String :  \", specialCharacter) \n",
    "print(\"Total Number of Spaces in this String :  \", spaces)"
   ]
  },
  {
   "cell_type": "code",
   "execution_count": 36,
   "metadata": {},
   "outputs": [
    {
     "name": "stdout",
     "output_type": "stream",
     "text": [
      "PATTERN 001\n",
      "\n",
      "* \n",
      "* * \n",
      "* * * \n",
      "* * * * \n",
      "* * * * * \n",
      "* * * * \n",
      "* * * \n",
      "* * \n",
      "* \n"
     ]
    }
   ],
   "source": [
    "#Program O21 - Pattern 001\n",
    "print(\"PATTERN 001\")\n",
    "number=5;\n",
    "for i in range(number):\n",
    "    for j in range(i):\n",
    "        print ('* ', end=\"\")     \n",
    "    print('')\n",
    "for i in range(number,0,-1):\n",
    "    for j in range(i):\n",
    "        print('* ', end=\"\")\n",
    "    print('')"
   ]
  },
  {
   "cell_type": "code",
   "execution_count": 37,
   "metadata": {},
   "outputs": [
    {
     "name": "stdout",
     "output_type": "stream",
     "text": [
      "PATTERN 002\n",
      "\n",
      "1\n",
      "12\n",
      "123\n",
      "1234\n",
      "12345\n",
      "1234\n",
      "123\n",
      "12\n",
      "1\n"
     ]
    }
   ],
   "source": [
    "#Program 022 - Pattern 002 \n",
    "print(\"PATTERN 002\")\n",
    "number=5\n",
    "random = 1\n",
    "for i in range(number):\n",
    "    for j in range(i):\n",
    "        print (j+1, end=\"\")\n",
    "    print('')\n",
    "for i in range(5,0,-1):\n",
    "    for j in range(i):\n",
    "        print(j+1, end=\"\")\n",
    "    print('')"
   ]
  },
  {
   "cell_type": "code",
   "execution_count": 38,
   "metadata": {},
   "outputs": [
    {
     "name": "stdout",
     "output_type": "stream",
     "text": [
      "PATTERN 003\n",
      "\n",
      "1\n",
      "22\n",
      "333\n",
      "4444\n",
      "55555\n",
      "666666\n",
      "7777777\n",
      "88888888\n",
      "999999999\n"
     ]
    }
   ],
   "source": [
    "#Program 023 - Pattern 003\n",
    "print(\"PATTERN 003\")\n",
    "for i in range(10):\n",
    "    print(str(i) * i)"
   ]
  },
  {
   "cell_type": "code",
   "execution_count": null,
   "metadata": {},
   "outputs": [],
   "source": []
  }
 ],
 "metadata": {
  "kernelspec": {
   "display_name": "Python 3",
   "language": "python",
   "name": "python3"
  },
  "language_info": {
   "codemirror_mode": {
    "name": "ipython",
    "version": 3
   },
   "file_extension": ".py",
   "mimetype": "text/x-python",
   "name": "python",
   "nbconvert_exporter": "python",
   "pygments_lexer": "ipython3",
   "version": "3.7.3"
  }
 },
 "nbformat": 4,
 "nbformat_minor": 2
}
